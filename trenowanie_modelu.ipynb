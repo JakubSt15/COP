{
 "cells": [
  {
   "cell_type": "code",
   "execution_count": 25,
   "id": "initial_id",
   "metadata": {
    "collapsed": true,
    "ExecuteTime": {
     "end_time": "2023-11-20T14:47:57.405732100Z",
     "start_time": "2023-11-20T14:47:57.402745600Z"
    }
   },
   "outputs": [],
   "source": [
    "import matplotlib.pyplot as plt\n",
    "import numpy as np\n",
    "from keras.models import Sequential\n",
    "from keras.layers import LSTM, Dense\n",
    "import tensorflow as tf\n",
    "import mne"
   ]
  },
  {
   "cell_type": "markdown",
   "source": [
    "Konfiguracja modelu"
   ],
   "metadata": {
    "collapsed": false
   },
   "id": "5e067436f2097ddf"
  },
  {
   "cell_type": "code",
   "execution_count": 26,
   "outputs": [],
   "source": [
    "train_files=['p10_Record2.edf', 'p11_Record1.edf', 'p11_Record2.edf', 'p11_Record3.edf', 'p11_Record4.edf', 'p12_Record1.edf', 'p12_Record2.edf', 'p12_Record3.edf', 'p13_Record1.edf', 'p13_Record2.edf', 'p13_Record3.edf', 'p13_Record4.edf', 'p14_Record1.edf', 'p14_Record2.edf', 'p14_Record3.edf', 'p15_Record1.edf', 'p15_Record2.edf', 'p15_Record3.edf', 'p15_Record4.edf']\n",
    "test_file= 'p10_Record1.edf'\n",
    "frame_size=1000\n",
    "units_of_LSTM=10\n",
    "number_of_epochs=5"
   ],
   "metadata": {
    "collapsed": false,
    "ExecuteTime": {
     "end_time": "2023-11-20T14:47:57.443621700Z",
     "start_time": "2023-11-20T14:47:57.407733300Z"
    }
   },
   "id": "b2a77c4f57c99b4e"
  },
  {
   "cell_type": "markdown",
   "source": [
    "Model sequential jest potokiem.\n",
    "Definiowanie modelu:\n",
    "    LSTM units: ile równolegle ma być komórek typu LSTM \n",
    "    Return_sequences: czy lstm ma zwracać sekwencje\n",
    "    Input_shape: (ilość elementów w jednej ramce,liczba cech)\n",
    "    Dense: warstwa najprostszych modeli neuronów by złożyć nam neurony lstm w jedno\n",
    "Kompilowanie \n",
    "    loss: Funkcja oceny"
   ],
   "metadata": {
    "collapsed": false
   },
   "id": "5543dd6625b7ea67"
  },
  {
   "cell_type": "code",
   "execution_count": 27,
   "outputs": [],
   "source": [
    "x=[]\n",
    "y=[]\n",
    "model = Sequential([\n",
    "    LSTM(units=units_of_LSTM, input_shape=(frame_size, 19),return_sequences=True),\n",
    "    Dense(units=19)\n",
    "])\n",
    "model.compile(optimizer='adam', loss='mean_squared_error')"
   ],
   "metadata": {
    "collapsed": false,
    "ExecuteTime": {
     "end_time": "2023-11-20T14:47:57.653947700Z",
     "start_time": "2023-11-20T14:47:57.416549500Z"
    }
   },
   "id": "b558894b7a9f1c39"
  },
  {
   "cell_type": "markdown",
   "source": [
    "Odczytanie pliku.\n",
    "Wybranie dziewietnastu kanałów.\n",
    "Obliczenie rozmiaru ramki.\n",
    "Przyporządkowanie ramce kolejnej ramki.\n",
    "Usunięcie ostatniej ramki i ramki jej przyporządkowanej\n",
    "Trenowanie modelu:\n",
    "    batch_size=rozmiar użytych próbek\n",
    "    epochs= liczba epok"
   ],
   "metadata": {
    "collapsed": false
   },
   "id": "d61ae7e64ae3454f"
  },
  {
   "cell_type": "code",
   "execution_count": null,
   "outputs": [],
   "source": [
    "for file in train_files:\n",
    "    x=[]\n",
    "    y=[]\n",
    "    open_t=mne.io.read_raw_edf(file)\n",
    "    raw_data=open_t.get_data()\n",
    "    open_t=0\n",
    "    channel=raw_data[:19]\n",
    "    numbers_of_frames=int(channel[0].size/frame_size)\n",
    "    for frame in range(numbers_of_frames):\n",
    "        x_to_add=channel[:,frame*frame_size:frame*frame_size+frame_size]\n",
    "        y_to_add=channel[:,frame*frame_size+frame_size:frame*frame_size+frame_size*2]\n",
    "        x_to_add=np.array(x_to_add).T\n",
    "        y_to_add=np.array(y_to_add).T\n",
    "        x.append(x_to_add.tolist())\n",
    "        y.append(y_to_add.tolist())\n",
    "    y_to_add=[]\n",
    "    x_to_add=[]\n",
    "    x.pop()\n",
    "    y.pop()\n",
    "    x=tf.convert_to_tensor(x)\n",
    "    y=tf.convert_to_tensor(y)\n",
    "    model.fit(x, y, batch_size=frame_size, epochs=number_of_epochs,use_multiprocessing=True)"
   ],
   "metadata": {
    "collapsed": false
   },
   "id": "cb9332ad8877e203"
  },
  {
   "cell_type": "markdown",
   "source": [
    "Odczyt i testowanie modelu"
   ],
   "metadata": {
    "collapsed": false
   },
   "id": "e682a8f3199234d3"
  },
  {
   "cell_type": "code",
   "execution_count": null,
   "outputs": [],
   "source": [
    "train=mne.io.read_raw_edf(test_file)\n",
    "train=train.get_data()\n",
    "do_testowania_array=np.array(train[:19,:frame_size])"
   ],
   "metadata": {
    "collapsed": false,
    "ExecuteTime": {
     "start_time": "2023-11-20T14:53:15.172514100Z"
    }
   },
   "id": "537c567860801dde"
  },
  {
   "cell_type": "markdown",
   "source": [
    "Predykcja na podstawie modelu"
   ],
   "metadata": {
    "collapsed": false
   },
   "id": "71f41b6fc705d2d7"
  },
  {
   "cell_type": "code",
   "execution_count": null,
   "outputs": [],
   "source": [
    "do_testowania_array=do_testowania_array.T\n",
    "wynik = model.predict([do_testowania_array.tolist()])"
   ],
   "metadata": {
    "collapsed": false,
    "ExecuteTime": {
     "start_time": "2023-11-20T14:53:15.177513600Z"
    }
   },
   "id": "4521738a425f19b5"
  },
  {
   "cell_type": "markdown",
   "source": [
    "Rysowanie wykresu predykcji i oryginalnej wartości"
   ],
   "metadata": {
    "collapsed": false
   },
   "id": "cf5d1bcf49ab55ee"
  },
  {
   "cell_type": "code",
   "execution_count": null,
   "outputs": [],
   "source": [
    "wynik=wynik[0]\n",
    "wynik=wynik.T\n",
    "for kanal in range(19):\n",
    "    plt.plot(train[kanal][frame_size:frame_size*2])\n",
    "    plt.plot(wynik[kanal])\n",
    "    plt.show()"
   ],
   "metadata": {
    "collapsed": false,
    "ExecuteTime": {
     "start_time": "2023-11-20T14:53:15.178515900Z"
    }
   },
   "id": "21b75b1ae8137d51"
  }
 ],
 "metadata": {
  "kernelspec": {
   "display_name": "Python 3",
   "language": "python",
   "name": "python3"
  },
  "language_info": {
   "codemirror_mode": {
    "name": "ipython",
    "version": 2
   },
   "file_extension": ".py",
   "mimetype": "text/x-python",
   "name": "python",
   "nbconvert_exporter": "python",
   "pygments_lexer": "ipython2",
   "version": "2.7.6"
  }
 },
 "nbformat": 4,
 "nbformat_minor": 5
}
